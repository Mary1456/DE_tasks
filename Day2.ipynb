{
  "cells": [
    {
      "cell_type": "code",
      "execution_count": 1,
      "metadata": {
        "colab": {
          "base_uri": "https://localhost:8080/"
        },
        "id": "69ZSKloJA7pa",
        "outputId": "4331a2c6-65c5-485e-8ebe-236a2de96ba1"
      },
      "outputs": [
        {
          "name": "stdout",
          "output_type": "stream",
          "text": [
            "+-----------+-------+-----+\n",
            "|   category|product|sales|\n",
            "+-----------+-------+-----+\n",
            "|   Clothing| Jacket|  800|\n",
            "|   Clothing|  Jeans|  600|\n",
            "|Electronics| Laptop| 1200|\n",
            "|Electronics|  Phone|  900|\n",
            "+-----------+-------+-----+\n",
            "\n"
          ]
        }
      ],
      "source": [
        "from pyspark.sql import SparkSession\n",
        "from pyspark.sql.functions import *\n",
        "from pyspark.sql.window import Window\n",
        "\n",
        "spark = SparkSession.builder.appName(\"Day2\").getOrCreate()\n",
        "\n",
        "\n",
        "data = [\n",
        "    (\"Electronics\", \"Laptop\", 1200),\n",
        "    (\"Electronics\", \"Phone\", 900),\n",
        "    (\"Electronics\", \"Tablet\", 700),\n",
        "    (\"Clothing\", \"Shirt\", 400),\n",
        "    (\"Clothing\", \"Jeans\", 600),\n",
        "    (\"Clothing\", \"Jacket\", 800),\n",
        "]\n",
        "columns = [\"category\", \"product\", \"sales\"]\n",
        "\n",
        "df = spark.createDataFrame(data, columns)\n",
        "\n",
        "windowSpec = Window.partitionBy(\"category\").orderBy(col(\"sales\").desc())\n",
        "\n",
        "ranked_df = df.withColumn(\"rank\", row_number().over(windowSpec))\n",
        "\n",
        "result = ranked_df.filter(col(\"rank\") <= 2).drop(\"rank\")\n",
        "\n",
        "result.show()"
      ]
    },
    {
      "cell_type": "code",
      "execution_count": null,
      "metadata": {
        "id": "gIGtzOXcBYHu"
      },
      "outputs": [],
      "source": [
        "\"\"\"\n",
        "SELECT\n",
        "    user_id,\n",
        "    txn_date,\n",
        "    amount,\n",
        "    SUM(amount) OVER (\n",
        "        PARTITION BY user_id\n",
        "        ORDER BY txn_date\n",
        "        ROWS BETWEEN UNBOUNDED PRECEDING AND CURRENT ROW\n",
        "    ) AS running_balance\n",
        "FROM transactions\n",
        "ORDER BY user_id, txn_date;\n",
        "\"\"\"\n"
      ]
    }
  ],
  "metadata": {
    "colab": {
      "provenance": []
    },
    "kernelspec": {
      "display_name": "Python 3",
      "name": "python3"
    },
    "language_info": {
      "name": "python",
      "version": "3.8.10"
    }
  },
  "nbformat": 4,
  "nbformat_minor": 0
}
