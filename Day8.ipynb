{
  "nbformat": 4,
  "nbformat_minor": 0,
  "metadata": {
    "colab": {
      "provenance": []
    },
    "kernelspec": {
      "name": "python3",
      "display_name": "Python 3"
    },
    "language_info": {
      "name": "python"
    }
  },
  "cells": [
    {
      "cell_type": "code",
      "execution_count": 3,
      "metadata": {
        "colab": {
          "base_uri": "https://localhost:8080/"
        },
        "id": "HfHrN2R55qGV",
        "outputId": "deba880b-adee-4302-cfe4-8a893f6f2adc"
      },
      "outputs": [
        {
          "output_type": "stream",
          "name": "stdout",
          "text": [
            "+----------+-----+-----------------+\n",
            "| sale_date|sales|rolling_3_day_avg|\n",
            "+----------+-----+-----------------+\n",
            "|2025-01-01|  100|            100.0|\n",
            "|2025-01-02|  200|            150.0|\n",
            "|2025-01-03|  300|            200.0|\n",
            "|2025-01-04|  400|            300.0|\n",
            "|2025-01-05|  500|            400.0|\n",
            "+----------+-----+-----------------+\n",
            "\n"
          ]
        }
      ],
      "source": [
        "from pyspark.sql import SparkSession\n",
        "from pyspark.sql.window import Window\n",
        "from pyspark.sql import functions as F\n",
        "\n",
        "spark = SparkSession.builder.appName(\"RollingAvg\").getOrCreate()\n",
        "\n",
        "data = [\n",
        "    (\"2025-01-01\", 100),\n",
        "    (\"2025-01-02\", 200),\n",
        "    (\"2025-01-03\", 300),\n",
        "    (\"2025-01-04\", 400),\n",
        "    (\"2025-01-05\", 500)\n",
        "]\n",
        "columns = [\"sale_date\", \"sales\"]\n",
        "\n",
        "df = spark.createDataFrame(data, columns)\n",
        "w = Window.orderBy(\"sale_date\").rowsBetween(-2, 0)\n",
        "df = df.withColumn(\"rolling_3_day_avg\", F.avg(\"sales\").over(w))\n",
        "\n",
        "df.show()\n"
      ]
    },
    {
      "cell_type": "code",
      "source": [
        "\"\"\"\n",
        "SELECT customer_id\n",
        "FROM (\n",
        "    SELECT\n",
        "        customer_id,\n",
        "        purchase_date,\n",
        "        amount,\n",
        "        LAG(amount) OVER (PARTITION BY customer_id ORDER BY purchase_date) AS prev_amount\n",
        "    FROM purchases\n",
        ") t\n",
        "GROUP BY customer_id\n",
        "HAVING MIN(CASE WHEN prev_amount IS NOT NULL AND amount <= prev_amount THEN 0 ELSE 1 END) = 1;\n",
        "\"\"\""
      ],
      "metadata": {
        "id": "fVYoetpc6aWe"
      },
      "execution_count": null,
      "outputs": []
    }
  ]
}