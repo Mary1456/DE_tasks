{
  "nbformat": 4,
  "nbformat_minor": 0,
  "metadata": {
    "colab": {
      "provenance": []
    },
    "kernelspec": {
      "name": "python3",
      "display_name": "Python 3"
    },
    "language_info": {
      "name": "python"
    }
  },
  "cells": [
    {
      "cell_type": "code",
      "execution_count": 2,
      "metadata": {
        "colab": {
          "base_uri": "https://localhost:8080/"
        },
        "id": "HfHrN2R55qGV",
        "outputId": "a8a93218-c926-43a6-b1a0-7118b8c8f3a8"
      },
      "outputs": [
        {
          "output_type": "stream",
          "name": "stdout",
          "text": [
            "+-------+------------+-----------------+-----------------------+\n",
            "|user_id|session_date|prev_session_date|days_since_last_session|\n",
            "+-------+------------+-----------------+-----------------------+\n",
            "|     U1|  2025-01-01|             NULL|                   NULL|\n",
            "|     U1|  2025-01-05|       2025-01-01|                      4|\n",
            "|     U1|  2025-01-10|       2025-01-05|                      5|\n",
            "|     U2|  2025-01-02|             NULL|                   NULL|\n",
            "|     U2|  2025-01-04|       2025-01-02|                      2|\n",
            "+-------+------------+-----------------+-----------------------+\n",
            "\n"
          ]
        }
      ],
      "source": [
        "from pyspark.sql import SparkSession\n",
        "from pyspark.sql.functions import col, lag, datediff\n",
        "from pyspark.sql.window import Window\n",
        "\n",
        "spark = SparkSession.builder.appName(\"SessionGap\").getOrCreate()\n",
        "\n",
        "data = [\n",
        "    (\"U1\", \"2025-01-01\"),\n",
        "    (\"U1\", \"2025-01-05\"),\n",
        "    (\"U1\", \"2025-01-10\"),\n",
        "    (\"U2\", \"2025-01-02\"),\n",
        "    (\"U2\", \"2025-01-04\"),\n",
        "]\n",
        "\n",
        "df = spark.createDataFrame(data, [\"user_id\", \"session_date\"])\n",
        "\n",
        "window_spec = Window.partitionBy(\"user_id\").orderBy(\"session_date\")\n",
        "\n",
        "df_with_gap = df.withColumn(\n",
        "    \"prev_session_date\", lag(\"session_date\").over(window_spec)\n",
        ").withColumn(\n",
        "    \"days_since_last_session\",\n",
        "    datediff(col(\"session_date\"), col(\"prev_session_date\"))\n",
        ")\n",
        "\n",
        "df_with_gap.show()\n"
      ]
    },
    {
      "cell_type": "code",
      "source": [
        "\"\"\"\n",
        "SELECT customer_id\n",
        "FROM purchases\n",
        "GROUP BY customer_id\n",
        "HAVING COUNT(*) = 1;\n",
        "\"\"\""
      ],
      "metadata": {
        "id": "fVYoetpc6aWe"
      },
      "execution_count": null,
      "outputs": []
    }
  ]
}