{
  "nbformat": 4,
  "nbformat_minor": 0,
  "metadata": {
    "colab": {
      "provenance": []
    },
    "kernelspec": {
      "name": "python3",
      "display_name": "Python 3"
    },
    "language_info": {
      "name": "python"
    }
  },
  "cells": [
    {
      "cell_type": "code",
      "execution_count": 1,
      "metadata": {
        "colab": {
          "base_uri": "https://localhost:8080/"
        },
        "id": "HfHrN2R55qGV",
        "outputId": "d7c64059-2897-4dde-e057-d73072344c5c"
      },
      "outputs": [
        {
          "output_type": "stream",
          "name": "stdout",
          "text": [
            "+------+----+------+----+\n",
            "|emp_id|dept|salary|rank|\n",
            "+------+----+------+----+\n",
            "|     2|  HR| 75000|   1|\n",
            "|     1|  HR| 60000|   2|\n",
            "|     3|  HR| 50000|   3|\n",
            "|     4|  IT| 90000|   1|\n",
            "|     5|  IT| 85000|   2|\n",
            "+------+----+------+----+\n",
            "\n"
          ]
        }
      ],
      "source": [
        "from pyspark.sql import SparkSession\n",
        "from pyspark.sql.window import Window\n",
        "from pyspark.sql.functions import col, rank\n",
        "\n",
        "\n",
        "spark = SparkSession.builder.appName(\"EmployeeRank\").getOrCreate()\n",
        "\n",
        "\n",
        "data = [\n",
        "    (1, \"HR\", 60000),\n",
        "    (2, \"HR\", 75000),\n",
        "    (3, \"HR\", 50000),\n",
        "    (4, \"IT\", 90000),\n",
        "    (5, \"IT\", 85000)\n",
        "]\n",
        "\n",
        "columns = [\"emp_id\", \"dept\", \"salary\"]\n",
        "df = spark.createDataFrame(data, columns)\n",
        "\n",
        "windowSpec = Window.partitionBy(\"dept\").orderBy(col(\"salary\").desc())\n",
        "ranked_df = df.withColumn(\"rank\", rank().over(windowSpec))\n",
        "\n",
        "ranked_df.show()\n"
      ]
    },
    {
      "cell_type": "code",
      "source": [
        "\"\"\"\n",
        "SELECT product_id\n",
        "FROM product_sales\n",
        "WHERE sale_date BETWEEN '2025-01-01' AND '2025-12-31'\n",
        "GROUP BY product_id\n",
        "HAVING COUNT(DISTINCT MONTH(sale_date)) = 12;\n",
        "\"\"\""
      ],
      "metadata": {
        "id": "fVYoetpc6aWe"
      },
      "execution_count": null,
      "outputs": []
    }
  ]
}