{
  "nbformat": 4,
  "nbformat_minor": 0,
  "metadata": {
    "colab": {
      "provenance": []
    },
    "kernelspec": {
      "name": "python3",
      "display_name": "Python 3"
    },
    "language_info": {
      "name": "python"
    }
  },
  "cells": [
    {
      "cell_type": "code",
      "execution_count": 1,
      "metadata": {
        "id": "NZsalxUntxrL"
      },
      "outputs": [],
      "source": [
        "from pyspark.sql import SparkSession\n",
        "from pyspark.sql.functions import *\n",
        "from pyspark.sql.types import *\n",
        "from pyspark.sql import functions as F\n",
        "from pyspark.sql.window import Window\n",
        "import pandas as pd\n",
        "import datetime\n",
        "\n",
        "spark = SparkSession.builder.appName(\"myApp\").getOrCreate()\n"
      ]
    },
    {
      "cell_type": "code",
      "source": [
        "data = [\n",
        "    (\"2025-01-01\", \"T1\", 100),\n",
        "    (\"2025-01-01\", \"T2\", 200),\n",
        "    (\"2025-01-01\", \"T3\", 500),\n",
        "    (\"2025-01-02\", \"T4\", 300),\n",
        "    (\"2025-01-02\", \"T5\", 400),\n",
        "    (\"2025-01-02\", \"T6\", 600),\n",
        "]\n",
        "\n",
        "columns = [\"txn_date\", \"txn_id\", \"amount\"]\n",
        "\n",
        "df = spark.createDataFrame(data, columns)\n",
        "\n",
        "daily_avg = df.groupBy(\"txn_date\").agg(avg(\"amount\").alias(\"avg_amount\"))\n",
        "\n",
        "df_with_avg = df.join(daily_avg, on=\"txn_date\", how=\"inner\")\n",
        "\n",
        "df_outliers = df_with_avg.filter(col(\"amount\") > col(\"avg_amount\")) \\\n",
        "                      .select(\"txn_date\", \"txn_id\", \"amount\")\n",
        "\n",
        "df_outliers.show()\n"
      ],
      "metadata": {
        "colab": {
          "base_uri": "https://localhost:8080/"
        },
        "id": "SBvT5j3zuL0U",
        "outputId": "351e03bd-9174-44ad-f3cc-90da4540e804"
      },
      "execution_count": 2,
      "outputs": [
        {
          "output_type": "stream",
          "name": "stdout",
          "text": [
            "+----------+------+------+\n",
            "|  txn_date|txn_id|amount|\n",
            "+----------+------+------+\n",
            "|2025-01-01|    T3|   500|\n",
            "|2025-01-02|    T6|   600|\n",
            "+----------+------+------+\n",
            "\n"
          ]
        }
      ]
    },
    {
      "cell_type": "code",
      "source": [
        "\"\"\"\n",
        "SELECT emp_id\n",
        "FROM employee_manager\n",
        "GROUP BY emp_id\n",
        "HAVING COUNT(DISTINCT manager_id) = 1;\n",
        "\"\"\""
      ],
      "metadata": {
        "id": "qFKwRw3BuMPS"
      },
      "execution_count": null,
      "outputs": []
    }
  ]
}