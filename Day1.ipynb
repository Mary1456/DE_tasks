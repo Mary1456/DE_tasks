{
  "cells": [
    {
      "cell_type": "code",
      "execution_count": null,
      "metadata": {
        "colab": {
          "base_uri": "https://localhost:8080/"
        },
        "id": "ma888dFp_CNE",
        "outputId": "924318a7-2e6b-46e1-fc12-7dbc90e45e73"
      },
      "outputs": [
        {
          "name": "stdout",
          "output_type": "stream",
          "text": [
            "+----------+\n",
            "|      date|\n",
            "+----------+\n",
            "|2025-01-05|\n",
            "|2025-01-03|\n",
            "+----------+\n",
            "\n"
          ]
        }
      ],
      "source": [
        "from pyspark.sql import SparkSession\n",
        "from pyspark.sql.functions import *\n",
        "from pyspark.sql.window import Window\n",
        "\n",
        "spark = SparkSession.builder.appName(\"Day1\").getOrCreate()\n",
        "\n",
        "data = [\n",
        "    (\"2025-01-01\", 100),\n",
        "    (\"2025-01-02\", 150),\n",
        "    (\"2025-01-04\", 120),\n",
        "    (\"2025-01-06\", 200),\n",
        "]\n",
        "\n",
        "columns = [\"date\", \"sales\"]\n",
        "sales_df = spark.createDataFrame(data, columns).withColumn(\"date\", to_date(col(\"date\")))\n",
        "\n",
        "min_max = sales_df.agg(min(\"date\").alias(\"min_date\"), max(\"date\").alias(\"max_date\")).collect()[0]\n",
        "min_date, max_date = min_max[\"min_date\"], min_max[\"max_date\"]\n",
        "\n",
        "date_df = spark.sql(f\"SELECT sequence(to_date('{min_date}'), to_date('{max_date}'), interval 1 day) as all_dates\")\n",
        "date_df = date_df.select(explode(col(\"all_dates\")).alias(\"date\"))\n",
        "\n",
        "missing_df = date_df.join(sales_df, on=\"date\", how=\"left_anti\")\n",
        "missing_df.show()\n"
      ]
    },
    {
      "cell_type": "code",
      "execution_count": null,
      "metadata": {
        "id": "btguWeLr_NnZ"
      },
      "outputs": [],
      "source": [
        "\"\"\"\n",
        "WITH ranked_logins AS (\n",
        "    SELECT\n",
        "        user_id,\n",
        "        login_date,\n",
        "        ROW_NUMBER() OVER (PARTITION BY user_id ORDER BY login_date) AS rn\n",
        "    FROM user_logins\n",
        "),\n",
        "grouped_logins AS (\n",
        "    SELECT\n",
        "        user_id,\n",
        "        login_date,\n",
        "        DATE_SUB(login_date, rn) AS grp_key\n",
        "    FROM ranked_logins\n",
        ")\n",
        "SELECT\n",
        "    user_id,\n",
        "    MAX(streak) AS longest_streak\n",
        "FROM (\n",
        "    SELECT\n",
        "        user_id,\n",
        "        grp_key,\n",
        "        COUNT(*) AS streak\n",
        "    FROM grouped_logins\n",
        "    GROUP BY user_id, grp_key\n",
        ") t\n",
        "GROUP BY user_id;\n",
        "\n",
        "\"\"\""
      ]
    }
  ],
  "metadata": {
    "colab": {
      "provenance": []
    },
    "kernelspec": {
      "display_name": "Python 3",
      "name": "python3"
    },
    "language_info": {
      "name": "python"
    }
  },
  "nbformat": 4,
  "nbformat_minor": 0
}
