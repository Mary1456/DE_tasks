{
  "nbformat": 4,
  "nbformat_minor": 0,
  "metadata": {
    "colab": {
      "provenance": []
    },
    "kernelspec": {
      "name": "python3",
      "display_name": "Python 3"
    },
    "language_info": {
      "name": "python"
    }
  },
  "cells": [
    {
      "cell_type": "code",
      "execution_count": 1,
      "metadata": {
        "id": "iayOQq-6umd0"
      },
      "outputs": [],
      "source": [
        "from pyspark.sql import SparkSession\n",
        "from pyspark.sql.functions import *\n",
        "from pyspark.sql.types import *\n",
        "from pyspark.sql import functions as F\n",
        "from pyspark.sql.window import Window\n",
        "import pandas as pd\n",
        "import datetime\n",
        "\n",
        "spark = SparkSession.builder.appName(\"myApp\").getOrCreate()\n"
      ]
    },
    {
      "cell_type": "code",
      "source": [
        "data = [\n",
        "    (\"Laptop\", 1200),\n",
        "    (\"Phone\", 800),\n",
        "    (\"Tablet\", 500),\n",
        "    (\"Desktop\", 500)\n",
        "]\n",
        "\n",
        "columns = [\"product\", \"sales\"]\n",
        "\n",
        "df = spark.createDataFrame(data, columns)\n",
        "\n",
        "total_sales = df.agg(sum(\"sales\").alias(\"total\")).collect()[0][\"total\"]\n",
        "\n",
        "df_with_pct = df.withColumn(\n",
        "    \"percentage_contribution\",\n",
        "    round((col(\"sales\") / total_sales) * 100, 1)\n",
        ")\n",
        "\n",
        "df_with_pct.show()\n"
      ],
      "metadata": {
        "colab": {
          "base_uri": "https://localhost:8080/"
        },
        "id": "-a_0WqdWuqCt",
        "outputId": "dcf3de58-64ec-40a2-b5d5-0ac882b20f2d"
      },
      "execution_count": 2,
      "outputs": [
        {
          "output_type": "stream",
          "name": "stdout",
          "text": [
            "+-------+-----+-----------------------+\n",
            "|product|sales|percentage_contribution|\n",
            "+-------+-----+-----------------------+\n",
            "| Laptop| 1200|                   40.0|\n",
            "|  Phone|  800|                   26.7|\n",
            "| Tablet|  500|                   16.7|\n",
            "|Desktop|  500|                   16.7|\n",
            "+-------+-----+-----------------------+\n",
            "\n"
          ]
        }
      ]
    },
    {
      "cell_type": "code",
      "source": [
        "\"\"\"\n",
        "SELECT m.month AS missing_month\n",
        "FROM (\n",
        "    SELECT '2025-01' AS month UNION ALL\n",
        "    SELECT '2025-02' UNION ALL\n",
        "    SELECT '2025-03' UNION ALL\n",
        "    SELECT '2025-04' UNION ALL\n",
        "    SELECT '2025-05' UNION ALL\n",
        "    SELECT '2025-06' UNION ALL\n",
        "    SELECT '2025-07' UNION ALL\n",
        "    SELECT '2025-08' UNION ALL\n",
        "    SELECT '2025-09' UNION ALL\n",
        "    SELECT '2025-10' UNION ALL\n",
        "    SELECT '2025-11' UNION ALL\n",
        "    SELECT '2025-12'\n",
        ") m\n",
        "LEFT JOIN (\n",
        "    SELECT DISTINCT DATE_FORMAT(txn_date, '%Y-%m') AS month\n",
        "    FROM transactions\n",
        "    WHERE YEAR(txn_date) = 2025\n",
        ") t\n",
        "  ON m.month = t.month\n",
        "WHERE t.month IS NULL\n",
        "ORDER BY m.month;\n",
        "\"\"\""
      ],
      "metadata": {
        "id": "PSuZkrOuu3uS"
      },
      "execution_count": null,
      "outputs": []
    }
  ]
}